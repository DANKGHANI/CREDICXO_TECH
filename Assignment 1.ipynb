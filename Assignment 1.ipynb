{
 "cells": [
  {
   "cell_type": "code",
   "execution_count": 66,
   "metadata": {},
   "outputs": [],
   "source": [
    "import pandas as pd\n",
    "import numpy as np\n",
    "import matplotlib.pyplot as plt"
   ]
  },
  {
   "cell_type": "code",
   "execution_count": 3,
   "metadata": {},
   "outputs": [],
   "source": [
    "df=pd.read_csv('/Users/ghanishtaggarwal/Desktop/BA/musk_csv.csv')"
   ]
  },
  {
   "cell_type": "code",
   "execution_count": 4,
   "metadata": {},
   "outputs": [
    {
     "data": {
      "text/html": [
       "<div>\n",
       "<style scoped>\n",
       "    .dataframe tbody tr th:only-of-type {\n",
       "        vertical-align: middle;\n",
       "    }\n",
       "\n",
       "    .dataframe tbody tr th {\n",
       "        vertical-align: top;\n",
       "    }\n",
       "\n",
       "    .dataframe thead th {\n",
       "        text-align: right;\n",
       "    }\n",
       "</style>\n",
       "<table border=\"1\" class=\"dataframe\">\n",
       "  <thead>\n",
       "    <tr style=\"text-align: right;\">\n",
       "      <th></th>\n",
       "      <th>ID</th>\n",
       "      <th>molecule_name</th>\n",
       "      <th>conformation_name</th>\n",
       "      <th>f1</th>\n",
       "      <th>f2</th>\n",
       "      <th>f3</th>\n",
       "      <th>f4</th>\n",
       "      <th>f5</th>\n",
       "      <th>f6</th>\n",
       "      <th>f7</th>\n",
       "      <th>...</th>\n",
       "      <th>f158</th>\n",
       "      <th>f159</th>\n",
       "      <th>f160</th>\n",
       "      <th>f161</th>\n",
       "      <th>f162</th>\n",
       "      <th>f163</th>\n",
       "      <th>f164</th>\n",
       "      <th>f165</th>\n",
       "      <th>f166</th>\n",
       "      <th>class</th>\n",
       "    </tr>\n",
       "  </thead>\n",
       "  <tbody>\n",
       "    <tr>\n",
       "      <td>0</td>\n",
       "      <td>1</td>\n",
       "      <td>MUSK-211</td>\n",
       "      <td>211_1+1</td>\n",
       "      <td>46</td>\n",
       "      <td>-108</td>\n",
       "      <td>-60</td>\n",
       "      <td>-69</td>\n",
       "      <td>-117</td>\n",
       "      <td>49</td>\n",
       "      <td>38</td>\n",
       "      <td>...</td>\n",
       "      <td>-308</td>\n",
       "      <td>52</td>\n",
       "      <td>-7</td>\n",
       "      <td>39</td>\n",
       "      <td>126</td>\n",
       "      <td>156</td>\n",
       "      <td>-50</td>\n",
       "      <td>-112</td>\n",
       "      <td>96</td>\n",
       "      <td>1</td>\n",
       "    </tr>\n",
       "    <tr>\n",
       "      <td>1</td>\n",
       "      <td>2</td>\n",
       "      <td>MUSK-211</td>\n",
       "      <td>211_1+10</td>\n",
       "      <td>41</td>\n",
       "      <td>-188</td>\n",
       "      <td>-145</td>\n",
       "      <td>22</td>\n",
       "      <td>-117</td>\n",
       "      <td>-6</td>\n",
       "      <td>57</td>\n",
       "      <td>...</td>\n",
       "      <td>-59</td>\n",
       "      <td>-2</td>\n",
       "      <td>52</td>\n",
       "      <td>103</td>\n",
       "      <td>136</td>\n",
       "      <td>169</td>\n",
       "      <td>-61</td>\n",
       "      <td>-136</td>\n",
       "      <td>79</td>\n",
       "      <td>1</td>\n",
       "    </tr>\n",
       "    <tr>\n",
       "      <td>2</td>\n",
       "      <td>3</td>\n",
       "      <td>MUSK-211</td>\n",
       "      <td>211_1+11</td>\n",
       "      <td>46</td>\n",
       "      <td>-194</td>\n",
       "      <td>-145</td>\n",
       "      <td>28</td>\n",
       "      <td>-117</td>\n",
       "      <td>73</td>\n",
       "      <td>57</td>\n",
       "      <td>...</td>\n",
       "      <td>-134</td>\n",
       "      <td>-154</td>\n",
       "      <td>57</td>\n",
       "      <td>143</td>\n",
       "      <td>142</td>\n",
       "      <td>165</td>\n",
       "      <td>-67</td>\n",
       "      <td>-145</td>\n",
       "      <td>39</td>\n",
       "      <td>1</td>\n",
       "    </tr>\n",
       "    <tr>\n",
       "      <td>3</td>\n",
       "      <td>4</td>\n",
       "      <td>MUSK-211</td>\n",
       "      <td>211_1+12</td>\n",
       "      <td>41</td>\n",
       "      <td>-188</td>\n",
       "      <td>-145</td>\n",
       "      <td>22</td>\n",
       "      <td>-117</td>\n",
       "      <td>-7</td>\n",
       "      <td>57</td>\n",
       "      <td>...</td>\n",
       "      <td>-60</td>\n",
       "      <td>-4</td>\n",
       "      <td>52</td>\n",
       "      <td>104</td>\n",
       "      <td>136</td>\n",
       "      <td>168</td>\n",
       "      <td>-60</td>\n",
       "      <td>-135</td>\n",
       "      <td>80</td>\n",
       "      <td>1</td>\n",
       "    </tr>\n",
       "    <tr>\n",
       "      <td>4</td>\n",
       "      <td>5</td>\n",
       "      <td>MUSK-211</td>\n",
       "      <td>211_1+13</td>\n",
       "      <td>41</td>\n",
       "      <td>-188</td>\n",
       "      <td>-145</td>\n",
       "      <td>22</td>\n",
       "      <td>-117</td>\n",
       "      <td>-7</td>\n",
       "      <td>57</td>\n",
       "      <td>...</td>\n",
       "      <td>-60</td>\n",
       "      <td>-4</td>\n",
       "      <td>52</td>\n",
       "      <td>104</td>\n",
       "      <td>137</td>\n",
       "      <td>168</td>\n",
       "      <td>-60</td>\n",
       "      <td>-135</td>\n",
       "      <td>80</td>\n",
       "      <td>1</td>\n",
       "    </tr>\n",
       "  </tbody>\n",
       "</table>\n",
       "<p>5 rows × 170 columns</p>\n",
       "</div>"
      ],
      "text/plain": [
       "   ID molecule_name conformation_name  f1   f2   f3  f4   f5  f6  f7  ...  \\\n",
       "0   1      MUSK-211           211_1+1  46 -108  -60 -69 -117  49  38  ...   \n",
       "1   2      MUSK-211          211_1+10  41 -188 -145  22 -117  -6  57  ...   \n",
       "2   3      MUSK-211          211_1+11  46 -194 -145  28 -117  73  57  ...   \n",
       "3   4      MUSK-211          211_1+12  41 -188 -145  22 -117  -7  57  ...   \n",
       "4   5      MUSK-211          211_1+13  41 -188 -145  22 -117  -7  57  ...   \n",
       "\n",
       "   f158  f159  f160  f161  f162  f163  f164  f165  f166  class  \n",
       "0  -308    52    -7    39   126   156   -50  -112    96      1  \n",
       "1   -59    -2    52   103   136   169   -61  -136    79      1  \n",
       "2  -134  -154    57   143   142   165   -67  -145    39      1  \n",
       "3   -60    -4    52   104   136   168   -60  -135    80      1  \n",
       "4   -60    -4    52   104   137   168   -60  -135    80      1  \n",
       "\n",
       "[5 rows x 170 columns]"
      ]
     },
     "execution_count": 4,
     "metadata": {},
     "output_type": "execute_result"
    }
   ],
   "source": [
    "df.head()"
   ]
  },
  {
   "cell_type": "code",
   "execution_count": 5,
   "metadata": {},
   "outputs": [
    {
     "data": {
      "text/plain": [
       "(6598, 170)"
      ]
     },
     "execution_count": 5,
     "metadata": {},
     "output_type": "execute_result"
    }
   ],
   "source": [
    "df.shape"
   ]
  },
  {
   "cell_type": "code",
   "execution_count": 6,
   "metadata": {},
   "outputs": [
    {
     "data": {
      "text/plain": [
       "NON-MUSK-j146    1044\n",
       "NON-MUSK-252     1010\n",
       "NON-MUSK-j147     911\n",
       "NON-MUSK-f146     383\n",
       "NON-MUSK-288      344\n",
       "                 ... \n",
       "MUSK-306            2\n",
       "NON-MUSK-308        2\n",
       "MUSK-300            2\n",
       "NON-MUSK-j96        1\n",
       "NON-MUSK-j97        1\n",
       "Name: molecule_name, Length: 102, dtype: int64"
      ]
     },
     "execution_count": 6,
     "metadata": {},
     "output_type": "execute_result"
    }
   ],
   "source": [
    "df['molecule_name'].value_counts()"
   ]
  },
  {
   "cell_type": "code",
   "execution_count": 7,
   "metadata": {},
   "outputs": [
    {
     "data": {
      "text/plain": [
       "249_1+3       1\n",
       "f146_1+272    1\n",
       "288_4+50      1\n",
       "f146_1+211    1\n",
       "f146_1+8      1\n",
       "             ..\n",
       "197_1+277     1\n",
       "217_1+35      1\n",
       "252_1+76      1\n",
       "288_2+27      1\n",
       "270_1+55      1\n",
       "Name: conformation_name, Length: 6598, dtype: int64"
      ]
     },
     "execution_count": 7,
     "metadata": {},
     "output_type": "execute_result"
    }
   ],
   "source": [
    "df['conformation_name'].value_counts()"
   ]
  },
  {
   "cell_type": "code",
   "execution_count": 8,
   "metadata": {},
   "outputs": [
    {
     "data": {
      "text/plain": [
       "2047    1\n",
       "1322    1\n",
       "5392    1\n",
       "1298    1\n",
       "3347    1\n",
       "       ..\n",
       "4687    1\n",
       "2644    1\n",
       "597     1\n",
       "4695    1\n",
       "2049    1\n",
       "Name: ID, Length: 6598, dtype: int64"
      ]
     },
     "execution_count": 8,
     "metadata": {},
     "output_type": "execute_result"
    }
   ],
   "source": [
    "df['ID'].value_counts()"
   ]
  },
  {
   "cell_type": "code",
   "execution_count": 9,
   "metadata": {},
   "outputs": [
    {
     "data": {
      "text/html": [
       "<div>\n",
       "<style scoped>\n",
       "    .dataframe tbody tr th:only-of-type {\n",
       "        vertical-align: middle;\n",
       "    }\n",
       "\n",
       "    .dataframe tbody tr th {\n",
       "        vertical-align: top;\n",
       "    }\n",
       "\n",
       "    .dataframe thead th {\n",
       "        text-align: right;\n",
       "    }\n",
       "</style>\n",
       "<table border=\"1\" class=\"dataframe\">\n",
       "  <thead>\n",
       "    <tr style=\"text-align: right;\">\n",
       "      <th></th>\n",
       "      <th>cols</th>\n",
       "      <th>values</th>\n",
       "    </tr>\n",
       "  </thead>\n",
       "  <tbody>\n",
       "  </tbody>\n",
       "</table>\n",
       "</div>"
      ],
      "text/plain": [
       "Empty DataFrame\n",
       "Columns: [cols, values]\n",
       "Index: []"
      ]
     },
     "execution_count": 9,
     "metadata": {},
     "output_type": "execute_result"
    }
   ],
   "source": [
    "missing_df=pd.DataFrame()\n",
    "missing_df['cols']=df.isnull().sum().keys()\n",
    "missing_df['values']=df.isnull().sum().values.tolist()\n",
    "missing_df[missing_df['values']>0]"
   ]
  },
  {
   "cell_type": "code",
   "execution_count": 15,
   "metadata": {},
   "outputs": [],
   "source": [
    "df1=df.drop(['conformation_name','ID','molecule_name','class'],axis=1)"
   ]
  },
  {
   "cell_type": "code",
   "execution_count": 16,
   "metadata": {},
   "outputs": [],
   "source": [
    "#Scaling is performed\n",
    "from sklearn import preprocessing\n",
    "from sklearn.preprocessing import RobustScaler\n",
    "scaler = preprocessing.RobustScaler()\n",
    "scaled = scaler.fit_transform(df1)"
   ]
  },
  {
   "cell_type": "code",
   "execution_count": 17,
   "metadata": {},
   "outputs": [],
   "source": [
    "scaled=pd.DataFrame(scaled,columns=df1.columns)"
   ]
  },
  {
   "cell_type": "code",
   "execution_count": 18,
   "metadata": {},
   "outputs": [
    {
     "data": {
      "text/html": [
       "<div>\n",
       "<style scoped>\n",
       "    .dataframe tbody tr th:only-of-type {\n",
       "        vertical-align: middle;\n",
       "    }\n",
       "\n",
       "    .dataframe tbody tr th {\n",
       "        vertical-align: top;\n",
       "    }\n",
       "\n",
       "    .dataframe thead th {\n",
       "        text-align: right;\n",
       "    }\n",
       "</style>\n",
       "<table border=\"1\" class=\"dataframe\">\n",
       "  <thead>\n",
       "    <tr style=\"text-align: right;\">\n",
       "      <th></th>\n",
       "      <th>f1</th>\n",
       "      <th>f2</th>\n",
       "      <th>f3</th>\n",
       "      <th>f4</th>\n",
       "      <th>f5</th>\n",
       "      <th>f6</th>\n",
       "      <th>f7</th>\n",
       "      <th>f8</th>\n",
       "      <th>f9</th>\n",
       "      <th>f10</th>\n",
       "      <th>...</th>\n",
       "      <th>f157</th>\n",
       "      <th>f158</th>\n",
       "      <th>f159</th>\n",
       "      <th>f160</th>\n",
       "      <th>f161</th>\n",
       "      <th>f162</th>\n",
       "      <th>f163</th>\n",
       "      <th>f164</th>\n",
       "      <th>f165</th>\n",
       "      <th>f166</th>\n",
       "    </tr>\n",
       "  </thead>\n",
       "  <tbody>\n",
       "    <tr>\n",
       "      <td>0</td>\n",
       "      <td>0.1250</td>\n",
       "      <td>0.418367</td>\n",
       "      <td>0.330508</td>\n",
       "      <td>-0.392857</td>\n",
       "      <td>0.0</td>\n",
       "      <td>0.156863</td>\n",
       "      <td>0.050926</td>\n",
       "      <td>-1.232877</td>\n",
       "      <td>0.163265</td>\n",
       "      <td>0.337469</td>\n",
       "      <td>...</td>\n",
       "      <td>-0.888889</td>\n",
       "      <td>-0.385417</td>\n",
       "      <td>0.712062</td>\n",
       "      <td>0.177215</td>\n",
       "      <td>-0.134731</td>\n",
       "      <td>0.327586</td>\n",
       "      <td>-0.714286</td>\n",
       "      <td>0.434783</td>\n",
       "      <td>0.644068</td>\n",
       "      <td>0.539062</td>\n",
       "    </tr>\n",
       "    <tr>\n",
       "      <td>1</td>\n",
       "      <td>-0.1875</td>\n",
       "      <td>-0.397959</td>\n",
       "      <td>-0.389831</td>\n",
       "      <td>0.419643</td>\n",
       "      <td>0.0</td>\n",
       "      <td>-0.382353</td>\n",
       "      <td>0.138889</td>\n",
       "      <td>-1.301370</td>\n",
       "      <td>0.005102</td>\n",
       "      <td>-0.704715</td>\n",
       "      <td>...</td>\n",
       "      <td>0.111111</td>\n",
       "      <td>0.911458</td>\n",
       "      <td>0.501946</td>\n",
       "      <td>0.924051</td>\n",
       "      <td>0.248503</td>\n",
       "      <td>0.500000</td>\n",
       "      <td>-0.448980</td>\n",
       "      <td>-0.043478</td>\n",
       "      <td>0.237288</td>\n",
       "      <td>0.406250</td>\n",
       "    </tr>\n",
       "    <tr>\n",
       "      <td>2</td>\n",
       "      <td>0.1250</td>\n",
       "      <td>-0.459184</td>\n",
       "      <td>-0.389831</td>\n",
       "      <td>0.473214</td>\n",
       "      <td>0.0</td>\n",
       "      <td>0.392157</td>\n",
       "      <td>0.138889</td>\n",
       "      <td>-1.280822</td>\n",
       "      <td>0.005102</td>\n",
       "      <td>0.069479</td>\n",
       "      <td>...</td>\n",
       "      <td>-0.222222</td>\n",
       "      <td>0.520833</td>\n",
       "      <td>-0.089494</td>\n",
       "      <td>0.987342</td>\n",
       "      <td>0.488024</td>\n",
       "      <td>0.603448</td>\n",
       "      <td>-0.530612</td>\n",
       "      <td>-0.304348</td>\n",
       "      <td>0.084746</td>\n",
       "      <td>0.093750</td>\n",
       "    </tr>\n",
       "    <tr>\n",
       "      <td>3</td>\n",
       "      <td>-0.1875</td>\n",
       "      <td>-0.397959</td>\n",
       "      <td>-0.389831</td>\n",
       "      <td>0.419643</td>\n",
       "      <td>0.0</td>\n",
       "      <td>-0.392157</td>\n",
       "      <td>0.138889</td>\n",
       "      <td>-1.294521</td>\n",
       "      <td>0.005102</td>\n",
       "      <td>-0.694789</td>\n",
       "      <td>...</td>\n",
       "      <td>0.000000</td>\n",
       "      <td>0.906250</td>\n",
       "      <td>0.494163</td>\n",
       "      <td>0.924051</td>\n",
       "      <td>0.254491</td>\n",
       "      <td>0.500000</td>\n",
       "      <td>-0.469388</td>\n",
       "      <td>0.000000</td>\n",
       "      <td>0.254237</td>\n",
       "      <td>0.414062</td>\n",
       "    </tr>\n",
       "    <tr>\n",
       "      <td>4</td>\n",
       "      <td>-0.1875</td>\n",
       "      <td>-0.397959</td>\n",
       "      <td>-0.389831</td>\n",
       "      <td>0.419643</td>\n",
       "      <td>0.0</td>\n",
       "      <td>-0.392157</td>\n",
       "      <td>0.138889</td>\n",
       "      <td>-1.294521</td>\n",
       "      <td>0.005102</td>\n",
       "      <td>-0.694789</td>\n",
       "      <td>...</td>\n",
       "      <td>0.000000</td>\n",
       "      <td>0.906250</td>\n",
       "      <td>0.494163</td>\n",
       "      <td>0.924051</td>\n",
       "      <td>0.254491</td>\n",
       "      <td>0.517241</td>\n",
       "      <td>-0.469388</td>\n",
       "      <td>0.000000</td>\n",
       "      <td>0.254237</td>\n",
       "      <td>0.414062</td>\n",
       "    </tr>\n",
       "  </tbody>\n",
       "</table>\n",
       "<p>5 rows × 166 columns</p>\n",
       "</div>"
      ],
      "text/plain": [
       "       f1        f2        f3        f4   f5        f6        f7        f8  \\\n",
       "0  0.1250  0.418367  0.330508 -0.392857  0.0  0.156863  0.050926 -1.232877   \n",
       "1 -0.1875 -0.397959 -0.389831  0.419643  0.0 -0.382353  0.138889 -1.301370   \n",
       "2  0.1250 -0.459184 -0.389831  0.473214  0.0  0.392157  0.138889 -1.280822   \n",
       "3 -0.1875 -0.397959 -0.389831  0.419643  0.0 -0.392157  0.138889 -1.294521   \n",
       "4 -0.1875 -0.397959 -0.389831  0.419643  0.0 -0.392157  0.138889 -1.294521   \n",
       "\n",
       "         f9       f10  ...      f157      f158      f159      f160      f161  \\\n",
       "0  0.163265  0.337469  ... -0.888889 -0.385417  0.712062  0.177215 -0.134731   \n",
       "1  0.005102 -0.704715  ...  0.111111  0.911458  0.501946  0.924051  0.248503   \n",
       "2  0.005102  0.069479  ... -0.222222  0.520833 -0.089494  0.987342  0.488024   \n",
       "3  0.005102 -0.694789  ...  0.000000  0.906250  0.494163  0.924051  0.254491   \n",
       "4  0.005102 -0.694789  ...  0.000000  0.906250  0.494163  0.924051  0.254491   \n",
       "\n",
       "       f162      f163      f164      f165      f166  \n",
       "0  0.327586 -0.714286  0.434783  0.644068  0.539062  \n",
       "1  0.500000 -0.448980 -0.043478  0.237288  0.406250  \n",
       "2  0.603448 -0.530612 -0.304348  0.084746  0.093750  \n",
       "3  0.500000 -0.469388  0.000000  0.254237  0.414062  \n",
       "4  0.517241 -0.469388  0.000000  0.254237  0.414062  \n",
       "\n",
       "[5 rows x 166 columns]"
      ]
     },
     "execution_count": 18,
     "metadata": {},
     "output_type": "execute_result"
    }
   ],
   "source": [
    "scaled.head()"
   ]
  },
  {
   "cell_type": "code",
   "execution_count": 19,
   "metadata": {},
   "outputs": [],
   "source": [
    "scaled['class']=df['class']\n",
    "target_col=['class']"
   ]
  },
  {
   "cell_type": "code",
   "execution_count": 20,
   "metadata": {},
   "outputs": [],
   "source": [
    "# Correlation matri is formed\n",
    "corr_matrix=df.corr().abs()\n",
    "upper=corr_matrix.where(np.triu(np.ones(corr_matrix.shape),k=1).astype(np.bool))\n",
    "to_drop=[column for column in upper.columns if any(upper[column]>0.75)]"
   ]
  },
  {
   "cell_type": "code",
   "execution_count": 21,
   "metadata": {},
   "outputs": [
    {
     "data": {
      "text/plain": [
       "['f7',\n",
       " 'f9',\n",
       " 'f14',\n",
       " 'f15',\n",
       " 'f17',\n",
       " 'f19',\n",
       " 'f22',\n",
       " 'f23',\n",
       " 'f26',\n",
       " 'f30',\n",
       " 'f34',\n",
       " 'f35',\n",
       " 'f39',\n",
       " 'f40',\n",
       " 'f41',\n",
       " 'f43',\n",
       " 'f44',\n",
       " 'f45',\n",
       " 'f46',\n",
       " 'f48',\n",
       " 'f49',\n",
       " 'f50',\n",
       " 'f51',\n",
       " 'f52',\n",
       " 'f53',\n",
       " 'f57',\n",
       " 'f59',\n",
       " 'f60',\n",
       " 'f61',\n",
       " 'f62',\n",
       " 'f64',\n",
       " 'f65',\n",
       " 'f66',\n",
       " 'f70',\n",
       " 'f71',\n",
       " 'f72',\n",
       " 'f73',\n",
       " 'f74',\n",
       " 'f75',\n",
       " 'f77',\n",
       " 'f78',\n",
       " 'f79',\n",
       " 'f80',\n",
       " 'f81',\n",
       " 'f82',\n",
       " 'f83',\n",
       " 'f85',\n",
       " 'f86',\n",
       " 'f87',\n",
       " 'f89',\n",
       " 'f90',\n",
       " 'f91',\n",
       " 'f93',\n",
       " 'f98',\n",
       " 'f99',\n",
       " 'f100',\n",
       " 'f101',\n",
       " 'f102',\n",
       " 'f103',\n",
       " 'f104',\n",
       " 'f105',\n",
       " 'f106',\n",
       " 'f108',\n",
       " 'f109',\n",
       " 'f110',\n",
       " 'f111',\n",
       " 'f112',\n",
       " 'f113',\n",
       " 'f114',\n",
       " 'f115',\n",
       " 'f117',\n",
       " 'f118',\n",
       " 'f119',\n",
       " 'f120',\n",
       " 'f121',\n",
       " 'f122',\n",
       " 'f123',\n",
       " 'f125',\n",
       " 'f127',\n",
       " 'f128',\n",
       " 'f129',\n",
       " 'f130',\n",
       " 'f133',\n",
       " 'f134',\n",
       " 'f135',\n",
       " 'f136',\n",
       " 'f137',\n",
       " 'f139',\n",
       " 'f140',\n",
       " 'f141',\n",
       " 'f142',\n",
       " 'f143',\n",
       " 'f144',\n",
       " 'f148',\n",
       " 'f149',\n",
       " 'f150',\n",
       " 'f151',\n",
       " 'f152',\n",
       " 'f153',\n",
       " 'f154',\n",
       " 'f155',\n",
       " 'f156',\n",
       " 'f159',\n",
       " 'f162']"
      ]
     },
     "execution_count": 21,
     "metadata": {},
     "output_type": "execute_result"
    }
   ],
   "source": [
    "to_drop"
   ]
  },
  {
   "cell_type": "code",
   "execution_count": 22,
   "metadata": {},
   "outputs": [],
   "source": [
    "scaled=scaled.drop(to_drop,axis=1)"
   ]
  },
  {
   "cell_type": "code",
   "execution_count": 24,
   "metadata": {},
   "outputs": [],
   "source": [
    "from sklearn.model_selection import train_test_split\n",
    "from sklearn.metrics import confusion_matrix, accuracy_score, classification_report\n",
    "from sklearn.metrics import roc_auc_score, roc_curve, scorer\n",
    "from sklearn.metrics import f1_score\n",
    "import statsmodels.api as sm\n",
    "from sklearn.metrics import precision_score, recall_score\n",
    "from yellowbrick.classifier import DiscriminationThreshold\n",
    "\n",
    "#splitting train and test\n",
    "train, test = train_test_split(scaled, test_size=0.2, random_state=17)\n",
    "train_X = train.drop('class', axis=1)\n",
    "train_Y = train['class']\n",
    "test_X = test.drop('class', axis=1)\n",
    "test_Y = test['class']"
   ]
  },
  {
   "cell_type": "code",
   "execution_count": 28,
   "metadata": {},
   "outputs": [
    {
     "name": "stderr",
     "output_type": "stream",
     "text": [
      "Using TensorFlow backend.\n"
     ]
    }
   ],
   "source": [
    "# Importing the Keras libraries and packages \n",
    "import keras \n",
    "from keras.models import Sequential \n",
    "from keras.layers import Dense"
   ]
  },
  {
   "cell_type": "code",
   "execution_count": 43,
   "metadata": {},
   "outputs": [],
   "source": [
    "clf_=Sequential()"
   ]
  },
  {
   "cell_type": "code",
   "execution_count": 44,
   "metadata": {},
   "outputs": [],
   "source": [
    "clf_.add(Dense(units = 10, kernel_initializer = 'uniform', \n",
    "activation = 'relu', input_dim = 62))"
   ]
  },
  {
   "cell_type": "code",
   "execution_count": 45,
   "metadata": {},
   "outputs": [],
   "source": [
    "clf_.add(Dense(units = 6, kernel_initializer = 'uniform', \n",
    "activation = 'relu'))"
   ]
  },
  {
   "cell_type": "code",
   "execution_count": 46,
   "metadata": {},
   "outputs": [],
   "source": [
    "clf_.add(Dense(units = 1, kernel_initializer = 'uniform', \n",
    "activation = 'sigmoid'))"
   ]
  },
  {
   "cell_type": "code",
   "execution_count": 47,
   "metadata": {},
   "outputs": [],
   "source": [
    "# Compiling Neural Network \n",
    "clf_.compile(optimizer = 'adam', loss = 'binary_crossentropy', metrics = ['accuracy'])"
   ]
  },
  {
   "cell_type": "code",
   "execution_count": 70,
   "metadata": {},
   "outputs": [
    {
     "name": "stdout",
     "output_type": "stream",
     "text": [
      "Train on 4222 samples, validate on 1056 samples\n",
      "Epoch 1/50\n",
      "4222/4222 [==============================] - 1s 208us/step - loss: 0.0086 - accuracy: 0.9974 - val_loss: 0.0078 - val_accuracy: 0.9981\n",
      "Epoch 2/50\n",
      "4222/4222 [==============================] - 1s 207us/step - loss: 0.0022 - accuracy: 0.9995 - val_loss: 0.0031 - val_accuracy: 0.9981\n",
      "Epoch 3/50\n",
      "4222/4222 [==============================] - 1s 182us/step - loss: 0.0016 - accuracy: 0.9998 - val_loss: 0.0029 - val_accuracy: 0.9991\n",
      "Epoch 4/50\n",
      "4222/4222 [==============================] - 1s 191us/step - loss: 0.0016 - accuracy: 0.9995 - val_loss: 0.0029 - val_accuracy: 0.9991\n",
      "Epoch 5/50\n",
      "4222/4222 [==============================] - 1s 225us/step - loss: 0.0019 - accuracy: 0.9995 - val_loss: 0.0029 - val_accuracy: 0.9991\n",
      "Epoch 6/50\n",
      "4222/4222 [==============================] - 1s 203us/step - loss: 0.0016 - accuracy: 0.9998 - val_loss: 0.0066 - val_accuracy: 0.9972\n",
      "Epoch 7/50\n",
      "4222/4222 [==============================] - 1s 206us/step - loss: 0.0126 - accuracy: 0.9957 - val_loss: 0.0096 - val_accuracy: 0.9962\n",
      "Epoch 8/50\n",
      "4222/4222 [==============================] - 1s 195us/step - loss: 0.0070 - accuracy: 0.9981 - val_loss: 0.0060 - val_accuracy: 0.9962\n",
      "Epoch 9/50\n",
      "4222/4222 [==============================] - 1s 187us/step - loss: 0.0084 - accuracy: 0.9976 - val_loss: 0.0066 - val_accuracy: 0.9972\n",
      "Epoch 10/50\n",
      "4222/4222 [==============================] - 1s 214us/step - loss: 0.0035 - accuracy: 0.9993 - val_loss: 0.0072 - val_accuracy: 0.9972\n",
      "Epoch 11/50\n",
      "4222/4222 [==============================] - 1s 198us/step - loss: 0.0078 - accuracy: 0.9972 - val_loss: 0.0070 - val_accuracy: 0.9981\n",
      "Epoch 12/50\n",
      "4222/4222 [==============================] - 1s 198us/step - loss: 0.0046 - accuracy: 0.9983 - val_loss: 0.0052 - val_accuracy: 0.9981\n",
      "Epoch 13/50\n",
      "4222/4222 [==============================] - 1s 185us/step - loss: 0.0036 - accuracy: 0.9991 - val_loss: 0.0056 - val_accuracy: 0.9981\n",
      "Epoch 14/50\n",
      "4222/4222 [==============================] - 1s 186us/step - loss: 0.0030 - accuracy: 0.9991 - val_loss: 0.0052 - val_accuracy: 0.9981\n",
      "Epoch 15/50\n",
      "4222/4222 [==============================] - 1s 187us/step - loss: 0.0047 - accuracy: 0.9988 - val_loss: 0.0090 - val_accuracy: 0.9962\n",
      "Epoch 16/50\n",
      "4222/4222 [==============================] - 1s 203us/step - loss: 0.0060 - accuracy: 0.9979 - val_loss: 0.0095 - val_accuracy: 0.9943\n",
      "Epoch 17/50\n",
      "4222/4222 [==============================] - 1s 188us/step - loss: 0.0089 - accuracy: 0.9974 - val_loss: 0.0091 - val_accuracy: 0.9981\n",
      "Epoch 18/50\n",
      "4222/4222 [==============================] - 1s 191us/step - loss: 0.0058 - accuracy: 0.9981 - val_loss: 0.0084 - val_accuracy: 0.9962\n",
      "Epoch 19/50\n",
      "4222/4222 [==============================] - 1s 198us/step - loss: 0.0044 - accuracy: 0.9986 - val_loss: 0.0097 - val_accuracy: 0.9972\n",
      "Epoch 20/50\n",
      "4222/4222 [==============================] - 1s 196us/step - loss: 0.0113 - accuracy: 0.9962 - val_loss: 0.0147 - val_accuracy: 0.9953\n",
      "Epoch 21/50\n",
      "4222/4222 [==============================] - 1s 193us/step - loss: 0.0061 - accuracy: 0.9979 - val_loss: 0.0144 - val_accuracy: 0.9915\n",
      "Epoch 22/50\n",
      "4222/4222 [==============================] - 1s 200us/step - loss: 0.0055 - accuracy: 0.9983 - val_loss: 0.0086 - val_accuracy: 0.9962\n",
      "Epoch 23/50\n",
      "4222/4222 [==============================] - 1s 210us/step - loss: 0.0042 - accuracy: 0.9988 - val_loss: 0.0092 - val_accuracy: 0.9934\n",
      "Epoch 24/50\n",
      "4222/4222 [==============================] - 1s 209us/step - loss: 0.0103 - accuracy: 0.9974 - val_loss: 0.0123 - val_accuracy: 0.9962\n",
      "Epoch 25/50\n",
      "4222/4222 [==============================] - 1s 210us/step - loss: 0.0032 - accuracy: 0.9991 - val_loss: 0.0070 - val_accuracy: 0.9981\n",
      "Epoch 26/50\n",
      "4222/4222 [==============================] - 1s 219us/step - loss: 0.0048 - accuracy: 0.9983 - val_loss: 0.0110 - val_accuracy: 0.9972\n",
      "Epoch 27/50\n",
      "4222/4222 [==============================] - 1s 221us/step - loss: 0.0030 - accuracy: 0.9991 - val_loss: 0.0072 - val_accuracy: 0.9981\n",
      "Epoch 28/50\n",
      "4222/4222 [==============================] - 1s 259us/step - loss: 0.0033 - accuracy: 0.9988 - val_loss: 0.0067 - val_accuracy: 0.9981\n",
      "Epoch 29/50\n",
      "4222/4222 [==============================] - 1s 199us/step - loss: 0.0011 - accuracy: 0.9998 - val_loss: 0.0061 - val_accuracy: 0.9981\n",
      "Epoch 30/50\n",
      "4222/4222 [==============================] - 1s 188us/step - loss: 0.0022 - accuracy: 0.9991 - val_loss: 0.0238 - val_accuracy: 0.9915\n",
      "Epoch 31/50\n",
      "4222/4222 [==============================] - 1s 182us/step - loss: 0.0070 - accuracy: 0.9983 - val_loss: 0.0183 - val_accuracy: 0.9943\n",
      "Epoch 32/50\n",
      "4222/4222 [==============================] - 1s 184us/step - loss: 0.0031 - accuracy: 0.9993 - val_loss: 0.0144 - val_accuracy: 0.9953\n",
      "Epoch 33/50\n",
      "4222/4222 [==============================] - 1s 210us/step - loss: 0.0063 - accuracy: 0.9988 - val_loss: 0.0183 - val_accuracy: 0.9943\n",
      "Epoch 34/50\n",
      "4222/4222 [==============================] - 1s 188us/step - loss: 0.0015 - accuracy: 0.9998 - val_loss: 0.0146 - val_accuracy: 0.9943\n",
      "Epoch 35/50\n",
      "4222/4222 [==============================] - 1s 188us/step - loss: 0.0025 - accuracy: 0.9988 - val_loss: 0.0145 - val_accuracy: 0.9934\n",
      "Epoch 36/50\n",
      "4222/4222 [==============================] - 1s 215us/step - loss: 0.0033 - accuracy: 0.9995 - val_loss: 0.0111 - val_accuracy: 0.9962\n",
      "Epoch 37/50\n",
      "4222/4222 [==============================] - 1s 240us/step - loss: 0.0012 - accuracy: 0.9998 - val_loss: 0.0111 - val_accuracy: 0.9962\n",
      "Epoch 38/50\n",
      "4222/4222 [==============================] - 1s 247us/step - loss: 0.0011 - accuracy: 0.9998 - val_loss: 0.0110 - val_accuracy: 0.9953\n",
      "Epoch 39/50\n",
      "4222/4222 [==============================] - 1s 201us/step - loss: 0.0052 - accuracy: 0.9976 - val_loss: 0.0398 - val_accuracy: 0.9896\n",
      "Epoch 40/50\n",
      "4222/4222 [==============================] - 1s 227us/step - loss: 0.0259 - accuracy: 0.9946 - val_loss: 0.0362 - val_accuracy: 0.9867\n",
      "Epoch 41/50\n",
      "4222/4222 [==============================] - 1s 238us/step - loss: 0.0145 - accuracy: 0.9969 - val_loss: 0.0250 - val_accuracy: 0.9934\n",
      "Epoch 42/50\n",
      "4222/4222 [==============================] - 1s 232us/step - loss: 0.0048 - accuracy: 0.9988 - val_loss: 0.0140 - val_accuracy: 0.9953\n",
      "Epoch 43/50\n",
      "4222/4222 [==============================] - 1s 272us/step - loss: 0.0026 - accuracy: 0.9993 - val_loss: 0.0158 - val_accuracy: 0.9943\n",
      "Epoch 44/50\n",
      "4222/4222 [==============================] - 1s 259us/step - loss: 0.0020 - accuracy: 0.9993 - val_loss: 0.0164 - val_accuracy: 0.9943\n",
      "Epoch 45/50\n",
      "4222/4222 [==============================] - 1s 201us/step - loss: 0.0017 - accuracy: 0.9993 - val_loss: 0.0181 - val_accuracy: 0.9924\n",
      "Epoch 46/50\n",
      "4222/4222 [==============================] - 1s 210us/step - loss: 0.0016 - accuracy: 0.9993 - val_loss: 0.0176 - val_accuracy: 0.9943\n",
      "Epoch 47/50\n",
      "4222/4222 [==============================] - 1s 190us/step - loss: 0.0015 - accuracy: 0.9993 - val_loss: 0.0157 - val_accuracy: 0.9943\n",
      "Epoch 48/50\n",
      "4222/4222 [==============================] - 1s 220us/step - loss: 0.0015 - accuracy: 0.9995 - val_loss: 0.0167 - val_accuracy: 0.9924\n",
      "Epoch 49/50\n",
      "4222/4222 [==============================] - 1s 230us/step - loss: 0.0014 - accuracy: 0.9995 - val_loss: 0.0230 - val_accuracy: 0.9905\n",
      "Epoch 50/50\n",
      "4222/4222 [==============================] - 1s 201us/step - loss: 0.0250 - accuracy: 0.9946 - val_loss: 0.0530 - val_accuracy: 0.9867\n"
     ]
    }
   ],
   "source": [
    "history=clf_.fit(train_X,train_Y,validation_split=0.2, batch_size = 10, epochs = 50)"
   ]
  },
  {
   "cell_type": "code",
   "execution_count": 71,
   "metadata": {},
   "outputs": [
    {
     "name": "stdout",
     "output_type": "stream",
     "text": [
      "5278/5278 [==============================] - 0s 32us/step\n",
      "Accuracy: 99.36\n"
     ]
    }
   ],
   "source": [
    "_,accuracy = clf_.evaluate(train_X,train_Y)\n",
    "print('Accuracy: %.2f' % (accuracy*100))"
   ]
  },
  {
   "cell_type": "code",
   "execution_count": 72,
   "metadata": {},
   "outputs": [
    {
     "name": "stdout",
     "output_type": "stream",
     "text": [
      "dict_keys(['val_loss', 'val_accuracy', 'loss', 'accuracy'])\n"
     ]
    }
   ],
   "source": [
    "print(history.history.keys())"
   ]
  },
  {
   "cell_type": "code",
   "execution_count": 74,
   "metadata": {},
   "outputs": [
    {
     "data": {
      "image/png": "[encoded data removed]",
      "text/plain": [
       "<Figure size 432x288 with 1 Axes>"
      ]
     },
     "metadata": {
      "needs_background": "light"
     },
     "output_type": "display_data"
    }
   ],
   "source": [
    "# Plot training & validation accuracy values\n",
    "plt.plot(history.history['accuracy'])\n",
    "plt.plot(history.history['val_accuracy'])\n",
    "plt.title('Model accuracy')\n",
    "plt.ylabel('Accuracy')\n",
    "plt.xlabel('Epoch')\n",
    "plt.legend(['Train', 'Test'], loc='upper left')\n",
    "plt.show()"
   ]
  },
  {
   "cell_type": "code",
   "execution_count": 75,
   "metadata": {},
   "outputs": [
    {
     "data": {
      "image/png": "[encoded data removed]",
      "text/plain": [
       "<Figure size 432x288 with 1 Axes>"
      ]
     },
     "metadata": {
      "needs_background": "light"
     },
     "output_type": "display_data"
    }
   ],
   "source": [
    "# Plot training & validation loss values\n",
    "plt.plot(history.history['loss'])\n",
    "plt.plot(history.history['val_loss'])\n",
    "plt.title('Model loss')\n",
    "plt.ylabel('Loss')\n",
    "plt.xlabel('Epoch')\n",
    "plt.legend(['Train', 'Test'], loc='upper left')\n",
    "plt.show()"
   ]
  },
  {
   "cell_type": "code",
   "execution_count": 88,
   "metadata": {},
   "outputs": [
    {
     "name": "stdout",
     "output_type": "stream",
     "text": [
      "              precision    recall  f1-score   support\n",
      "\n",
      "           0       0.84      1.00      0.91      1111\n",
      "           1       0.00      0.00      0.00       209\n",
      "\n",
      "    accuracy                           0.84      1320\n",
      "   macro avg       0.42      0.50      0.46      1320\n",
      "weighted avg       0.71      0.84      0.77      1320\n",
      "\n"
     ]
    }
   ],
   "source": [
    "y_pred = clf_.predict(test_X, batch_size=10, verbose=0)\n",
    "y_pred_bool = np.argmax(y_pred, axis=1)\n",
    "\n",
    "print(classification_report(test_Y, y_pred_bool))"
   ]
  },
  {
   "cell_type": "code",
   "execution_count": 89,
   "metadata": {},
   "outputs": [
    {
     "name": "stdout",
     "output_type": "stream",
     "text": [
      "[[1111    0]\n",
      " [ 209    0]]\n"
     ]
    }
   ],
   "source": [
    "confusion_matrix=confusion_matrix(test_Y,y_pred_bool)\n",
    "print(confusion_matrix)"
   ]
  },
  {
   "cell_type": "code",
   "execution_count": null,
   "metadata": {},
   "outputs": [],
   "source": []
  }
 ],
 "metadata": {
  "kernelspec": {
   "display_name": "Python 3",
   "language": "python",
   "name": "python3"
  },
  "language_info": {
   "codemirror_mode": {
    "name": "ipython",
    "version": 3
   },
   "file_extension": ".py",
   "mimetype": "text/x-python",
   "name": "python",
   "nbconvert_exporter": "python",
   "pygments_lexer": "ipython3",
   "version": "3.7.4"
  }
 },
 "nbformat": 4,
 "nbformat_minor": 2
}
